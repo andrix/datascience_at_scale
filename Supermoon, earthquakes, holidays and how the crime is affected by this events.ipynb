{
 "cells": [
  {
   "cell_type": "markdown",
   "metadata": {
    "deletable": true,
    "editable": true
   },
   "source": [
    "# Supermoon, earthquakes, holidays and how the crime is affected by this events"
   ]
  },
  {
   "cell_type": "markdown",
   "metadata": {
    "deletable": true,
    "editable": true
   },
   "source": [
    "> **Note:** This is part of one of the assignaments for the course on Communicating Data Science results from the Data Science at Scale specialization is to analize Crime data from the city of Seattle, and present the results using the concepts learnt on visualization. "
   ]
  },
  {
   "cell_type": "markdown",
   "metadata": {
    "deletable": true,
    "editable": true
   },
   "source": [
    "I'm sure you may be wondering: What have in common Supermoons, Earthquakes and holidays? OK, so, be patient. I'll explain my findings on this article. \n",
    "\n",
    "The investigation was done in the summer months of the year 2014, more precisely from June to August, from the city of Seattle. The dataset used contains 32779 observations from this period that we will explore through our analysis. So, let see how many incidents on our Crime dataset happens per month:\n",
    "\n",
    "![Bar plot on Crime data per month](figs/barplot.png)"
   ]
  },
  {
   "cell_type": "markdown",
   "metadata": {
    "deletable": true,
    "editable": true
   },
   "source": [
    "It seems that in August the number of incidents decreased, which is great, however we can't say that the tendecy will continue in the future as we don't have more evidence. \n",
    "\n",
    "So, my next question was, what are the most popular type of Crime incidents Seattle has? After inspect the data a bit, I saw that the field \"Summarized Offense Description\" was the one I was looking for. This field provides the summary of the Crime incident. So, the Top 10 most common problems on Summer of 2014 were,\n",
    "\n",
    "Offense Description | # of Incidents (Summer 2014)\n",
    "---- | ----\n",
    "CAR PROWL | 6230\n",
    "OTHER PROPERTY | 3755\n",
    "BURGLARY | 3212\n",
    "VEHICLE THEFT | 3057\n",
    "PROPERTY DAMAGE | 2365\n",
    "ASSAULT | 2018\n",
    "FRAUD | 1473\n",
    "DISTURBANCE | 1333\n",
    "THREATS | 1178\n",
    "STOLEN PROPERTY | 1136"
   ]
  },
  {
   "cell_type": "markdown",
   "metadata": {
    "deletable": true,
    "editable": true
   },
   "source": [
    "I'm not a US citizen, so it comes to my attention what means \"Car Prowl\". It seems is a term used in the Washington State, [based on their laws](https://app.leg.wa.gov/rcw/default.aspx?cite=9A.52.100), and it's defined as\n",
    "\n",
    "> A person is guilty of vehicle prowling in the second degree if, with intent to commit a crime against a person or property therein, he or she enters or remains unlawfully in a vehicle other than a motor home, as defined in RCW 46.04.305, or a vessel equipped for propulsion by mechanical means or by sail which has a cabin equipped with permanently installed sleeping quarters or cooking facilities.\n",
    "\n",
    "Meaning, someone will crash your window of your car to stole something. However, this isn't something new, according to The Seattle Times in 2009, [car prowling was a problem back then](http://www.seattletimes.com/seattle-news/car-prowls-becoming-seattle-headache/) and it's still one of the city police headache. "
   ]
  },
  {
   "cell_type": "markdown",
   "metadata": {
    "deletable": true,
    "editable": true
   },
   "source": [
    "Although Car prowling is a real issue one of the things that I consider a great thing is that on the Top 10 incidents there is no homicides. Seattle has a very low homicide rate, [according to Wikipedia it's 3.4%](https://en.wikipedia.org/wiki/List_of_United_States_cities_by_crime_rate), ranked 17 in the US with a population of 683,700 inhabitants. If we check our datasets you can see,\n",
    "\n",
    "Month | # of homicides\n",
    "---- | ----\n",
    "June | 2\n",
    "July | 4\n",
    "August | 2\n",
    "\n",
    "the homicides on those month are low with a peak in July. "
   ]
  },
  {
   "cell_type": "markdown",
   "metadata": {
    "collapsed": true,
    "deletable": true,
    "editable": true
   },
   "source": [
    "Continuing my exploration, I wanted to see for the Top 10 incidents how was the evolution in the summer months, so I used a pointplot chart which is very usefult to understand evolution,\n",
    "![Evolution of top 10 incidents through summer months](figs/point_plot_gt500.png)\n"
   ]
  },
  {
   "cell_type": "markdown",
   "metadata": {
    "deletable": true,
    "editable": true
   },
   "source": [
    "There is no clear trends here, it seems that **assaults** has decreased in the summer months, but the rest are pretty stable. \n",
    "\n",
    "That being said, to get a better picture of Seattle crime incidents, you can see in the map below the different areas of the city where there are incidents, \n",
    "![Map of incidents](figs/map_plot.png)"
   ]
  },
  {
   "cell_type": "markdown",
   "metadata": {
    "collapsed": true,
    "deletable": true,
    "editable": true
   },
   "source": [
    "You can see a big concentration of the light dots (assault, burglary, car prowl) around Lake Union. "
   ]
  },
  {
   "cell_type": "markdown",
   "metadata": {},
   "source": [
    "In summary, and to honor the title, there isn't much changes on the Crime incidents on the Summer months of 2014, however, we have seen spotted a few nice things. In 2014, besides the traditional holidays like July 4th and festivity dates like Father's day, there happen to be 2 events that by some reason on the holidays or those special events, the Crime incidents lowered down. These events were, [the Supermoon on August 10th](http://wnep.com/2014/08/08/193158/) and the [South Napa Earthquake on August 24th](https://en.wikipedia.org/wiki/2014_South_Napa_earthquake). In the following chart you can spot this events and the impact on the incidents,\n",
    "\n",
    "![Time series chart of the crime incidents in 2014 summer months](figs/ts_summer_crimes_seattle.png)\n",
    "\n",
    "Besides we know that correlation is no causation, it's funny to spot this as an excercise on this work."
   ]
  },
  {
   "cell_type": "code",
   "execution_count": null,
   "metadata": {
    "collapsed": true
   },
   "outputs": [],
   "source": []
  }
 ],
 "metadata": {
  "kernelspec": {
   "display_name": "Python 2",
   "language": "python",
   "name": "python2"
  },
  "language_info": {
   "codemirror_mode": {
    "name": "ipython",
    "version": 2
   },
   "file_extension": ".py",
   "mimetype": "text/x-python",
   "name": "python",
   "nbconvert_exporter": "python",
   "pygments_lexer": "ipython2",
   "version": "2.7.13"
  }
 },
 "nbformat": 4,
 "nbformat_minor": 0
}
